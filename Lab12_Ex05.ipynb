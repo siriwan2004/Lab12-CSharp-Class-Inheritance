{
 "cells": [
  {
   "cell_type": "markdown",
   "metadata": {},
   "source": [
    "# Lab 12 Class Inheritance"
   ]
  },
  {
   "cell_type": "markdown",
   "metadata": {},
   "source": [
    "ในการทดลองนี้ จะได้ศึกษาลำดับของการทำงานของคลาสในการสืบทอดสมบัติ\n",
    "\n",
    "โดยให้คอนสตรักเตอร์ของคลาสแต่ละระดับทำหน้าที่แสดงข้อความออกมาตามบลำดับการสร้าง object\n"
   ]
  },
  {
   "cell_type": "markdown",
   "metadata": {},
   "source": [
    "## แผนผังการสืบทอดสมบัติของคลาส"
   ]
  },
  {
   "cell_type": "code",
   "execution_count": null,
   "metadata": {
    "dotnet_interactive": {
     "language": "mermaid"
    },
    "polyglot_notebook": {
     "kernelName": "mermaid"
    }
   },
   "outputs": [
    {
     "data": {
      "text/html": [
       "<div class=\"mermaidMarkdownContainer\" style=\"background-color:white\">\r\n",
       "<link rel=\"stylesheet\" href=\"https://cdnjs.cloudflare.com/ajax/libs/font-awesome/6.2.0/css/all.min.css\">\r\n",
       "<div id=\"e24b6b90155841fe9a9bdf1ec59a605d\"></div>\r\n",
       "<script type=\"module\">\r\n",
       "\r\n",
       "            import mermaid from 'https://cdn.jsdelivr.net/npm/mermaid@10.6.1/dist/mermaid.esm.min.mjs';\r\n",
       "            let renderTarget = document.getElementById('e24b6b90155841fe9a9bdf1ec59a605d');\r\n",
       "            try {\r\n",
       "                const {svg, bindFunctions} = await mermaid.mermaidAPI.render( \r\n",
       "                    'mermaid_e24b6b90155841fe9a9bdf1ec59a605d', \r\n",
       "                    `classDiagram\n",
       "    class BaseClass1\n",
       "    class BaseClass2\n",
       "    class DerivedClass\n",
       "\n",
       "    BaseClass1 <|-- DerivedClass\n",
       "    BaseClass2 <|-- DerivedClass\n",
       "    `);\r\n",
       "                renderTarget.innerHTML = svg;\r\n",
       "                bindFunctions?.(renderTarget);\r\n",
       "            }\r\n",
       "            catch (error) {\r\n",
       "                console.log(error);\r\n",
       "            }\r\n",
       "</script>\r\n",
       "</div>\r\n"
      ]
     },
     "metadata": {},
     "output_type": "display_data"
    }
   ],
   "source": [
    "classDiagram\n",
    "    class BaseClass1\n",
    "    class BaseClass2\n",
    "    class DerivedClass\n",
    "\n",
    "    BaseClass1 <|-- DerivedClass\n",
    "    BaseClass2 <|-- DerivedClass\n",
    "    "
   ]
  },
  {
   "cell_type": "markdown",
   "metadata": {},
   "source": [
    "จากแผนภาพคลาสไดอะแกรมด้านบน เราสามารถนำมาเขียนโปรแกรมในภาษา C# ได้ดังนี้"
   ]
  },
  {
   "cell_type": "markdown",
   "metadata": {},
   "source": [
    "1. สร้าง console application project\n",
    "\n",
    "```cmd\n",
    "dotnet new console --name Lab12_Ex04\n",
    "```"
   ]
  },
  {
   "cell_type": "markdown",
   "metadata": {},
   "source": [
    "2.เปลี่ยน code ให้เป็นดังต่อไปนี้\n",
    "\n",
    "```csharp\n",
    "DerivedClass dc = new DerivedClass();\n",
    "class BaseClass1\n",
    " {\n",
    "    public BaseClass1()\n",
    "    {\n",
    "        System.Console.WriteLine(\"This is BaseClass1\");\n",
    "    }\n",
    " }\n",
    "class BaseClass2\n",
    " {\n",
    "    public BaseClass2()\n",
    "    {\n",
    "        System.Console.WriteLine(\"This is BaseClass2\");\n",
    "    }\n",
    " }\n",
    "\n",
    "class DerivedClass : BaseClass1, BaseClass2\n",
    "{\n",
    "    public DerivedClass()\n",
    "    {\n",
    "        System.Console.WriteLine(\"This is DerivedClass\");\n",
    "    }\n",
    "}\n",
    "```"
   ]
  },
  {
   "cell_type": "markdown",
   "metadata": {},
   "source": []
  },
  {
   "cell_type": "markdown",
   "metadata": {},
   "source": [
    "3.Build project โดยการใช้คำสั่ง\n",
    "\n",
    "```cmd\n",
    "dotnet build  Lab12_Ex04\n",
    "```\n",
    "\n",
    "ถ้ามีที่ผิดพลาดในโปรแกรม ให้แก้ไขให้ถูกต้อง\n",
    "\n"
   ]
  },
  {
   "cell_type": "markdown",
   "metadata": {},
   "source": []
  },
  {
   "cell_type": "markdown",
   "metadata": {},
   "source": [
    "4.บันทึกผลที่ได้จากการรันคำสั่งในข้อ 3\n",
    "\n"
   ]
  },
  {
   "attachments": {
    "image.png": {
     "image/png": "[encoded data removed]"
    }
   },
   "cell_type": "markdown",
   "metadata": {},
   "source": [
    "![image.png](attachment:image.png)"
   ]
  },
  {
   "cell_type": "markdown",
   "metadata": {},
   "source": []
  },
  {
   "cell_type": "markdown",
   "metadata": {},
   "source": [
    "5.Run project โดยการใช้คำสั่ง\n",
    "\n",
    "```cmd\n",
    "dotnet run --project Lab12_Ex04\n",
    "```\n",
    "\n"
   ]
  },
  {
   "cell_type": "markdown",
   "metadata": {},
   "source": []
  },
  {
   "cell_type": "markdown",
   "metadata": {},
   "source": [
    "6.บันทึกผลที่ได้จากการรันคำสั่งในข้อ 5\n",
    "\n"
   ]
  },
  {
   "attachments": {
    "image.png": {
     "image/png": "[encoded data removed]"
    }
   },
   "cell_type": "markdown",
   "metadata": {},
   "source": [
    "![image.png](attachment:image.png)"
   ]
  },
  {
   "cell_type": "markdown",
   "metadata": {},
   "source": []
  },
  {
   "cell_type": "markdown",
   "metadata": {},
   "source": [
    "7.อธิบายสิ่งที่พบในการทดลอง"
   ]
  },
  {
   "cell_type": "markdown",
   "metadata": {},
   "source": [
    "จากโค้ดที่ทดลองรันมีข้อผิดพลาดที่ทำให้ไม่สามารถคอมไพล์ได้ ทำการแก้ไขและรันผลลัพธ์ที่ได้คือ\n",
    "\n",
    "This is BaseClass1\n",
    "\n",
    "This is DerivedClass"
   ]
  },
  {
   "cell_type": "markdown",
   "metadata": {},
   "source": []
  },
  {
   "cell_type": "markdown",
   "metadata": {},
   "source": [
    "## คำถาม"
   ]
  },
  {
   "cell_type": "markdown",
   "metadata": {},
   "source": [
    "1. ในภาษา C#  เราสามารถสืบทอดสมบัติจาก Base class มากกว่าหนึ่งคลาสได้หรือไม่ "
   ]
  },
  {
   "cell_type": "markdown",
   "metadata": {},
   "source": [
    "ไม่สามารถทำได้ C# ไม่รองรับ Multiple Inheritance ของคลาส โดยตรง หมายความว่า DerivedClass สืบทอดจาก BaseClass ได้เพียงคลาสเดียวเท่านั้น"
   ]
  },
  {
   "cell_type": "markdown",
   "metadata": {},
   "source": []
  },
  {
   "cell_type": "markdown",
   "metadata": {},
   "source": [
    "2. จากข้อ 1 ถ้าไม่ได้แล้ว ในกรณีที่ต้องการสืบทอดจา่กหลาย Type จะทำได้อย่างไร"
   ]
  },
  {
   "cell_type": "markdown",
   "metadata": {},
   "source": [
    "ใช้ Interface แทน Multiple Inheritance หรือ ใช้ Composition แทน Inheritance"
   ]
  },
  {
   "cell_type": "markdown",
   "metadata": {},
   "source": []
  }
 ],
 "metadata": {
  "kernelspec": {
   "display_name": ".NET (C#)",
   "language": "C#",
   "name": ".net-csharp"
  },
  "polyglot_notebook": {
   "kernelInfo": {
    "defaultKernelName": "csharp",
    "items": [
     {
      "aliases": [],
      "languageName": "csharp",
      "name": "csharp"
     }
    ]
   }
  }
 },
 "nbformat": 4,
 "nbformat_minor": 2
}
